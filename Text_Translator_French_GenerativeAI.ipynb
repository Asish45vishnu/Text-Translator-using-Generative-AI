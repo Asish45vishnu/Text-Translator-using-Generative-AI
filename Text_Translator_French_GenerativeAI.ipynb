{
 "cells": [
  {
   "cell_type": "code",
   "execution_count": 1,
   "id": "4d7a604f",
   "metadata": {},
   "outputs": [],
   "source": [
    "import os\n",
    "import openai\n",
    "import gradio as gr"
   ]
  },
  {
   "cell_type": "code",
   "execution_count": 2,
   "id": "5c3ebc19",
   "metadata": {},
   "outputs": [],
   "source": [
    "#if you have OpenAI API key as a string, enable the below\n",
    "openai.api_key = \"\"\n",
    "\n",
    "start_sequence = \"\\nAI:\"\n",
    "restart_sequence = \"\\nHuman: \"\n"
   ]
  },
  {
   "cell_type": "code",
   "execution_count": 3,
   "id": "15e19c5b",
   "metadata": {},
   "outputs": [],
   "source": [
    "prompt = \"The following is a Text translator , which can Translate text you given \\n\\nHuman: Give your Text here ......\\nAI: French ...\\nHuman: \""
   ]
  },
  {
   "cell_type": "code",
   "execution_count": 4,
   "id": "aba79e8a",
   "metadata": {},
   "outputs": [],
   "source": [
    "summarization_prompt = \"Translate the below text to French :\"\n",
    "def openai_create(prompt):\n",
    "\n",
    "    response = openai.Completion.create(\n",
    "    model=\"text-davinci-003\",\n",
    "    prompt=prompt,\n",
    "    temperature=0.9,\n",
    "    max_tokens=1000,\n",
    "    top_p=1,\n",
    "    frequency_penalty=0,\n",
    "    presence_penalty=0.6,\n",
    "    stop=[\" Human:\", \" AI:\"]\n",
    "    )\n",
    "\n",
    "    return response.choices[0].text"
   ]
  },
  {
   "cell_type": "code",
   "execution_count": 5,
   "id": "a9dfb621",
   "metadata": {},
   "outputs": [],
   "source": [
    "summarization_prompt = \"Translate the below text to French :\"\n",
    "outp = \"\\n Summary : \\n\"\n",
    "def chatgpt_clone(input, history):\n",
    "    history = history or []\n",
    "    s = list(sum(history, ()))\n",
    "    s.append(summarization_prompt)  \n",
    "    s.append(input)\n",
    "    inp = ' '.join(s)\n",
    "    output = openai_create(inp)\n",
    "    history.append((input, output))\n",
    "    return history, history"
   ]
  },
  {
   "cell_type": "code",
   "execution_count": 6,
   "id": "48ce48d2",
   "metadata": {},
   "outputs": [],
   "source": [
    "block = gr.Blocks()"
   ]
  },
  {
   "cell_type": "code",
   "execution_count": 7,
   "id": "2ee465b6",
   "metadata": {},
   "outputs": [],
   "source": [
    "with block:\n",
    "    gr.Markdown(\"\"\"<h1><center>Text Translator (French) - Developed by Kalikiripalli Asish Vishnu</center></h1>\"\"\")\n",
    "    chatbot = gr.Chatbot()\n",
    "    message = gr.Textbox(placeholder=prompt)\n",
    "    state = gr.State()\n",
    "    submit = gr.Button(\"SEND\")\n",
    "    submit.click(chatgpt_clone, inputs=[message, state], outputs=[chatbot, state])"
   ]
  },
  {
   "cell_type": "code",
   "execution_count": null,
   "id": "928339d7",
   "metadata": {},
   "outputs": [
    {
     "name": "stdout",
     "output_type": "stream",
     "text": [
      "Running on local URL:  http://127.0.0.1:7861\n",
      "\n",
      "To create a public link, set `share=True` in `launch()`.\n"
     ]
    },
    {
     "data": {
      "text/html": [
       "<div><iframe src=\"http://127.0.0.1:7861/\" width=\"100%\" height=\"500\" allow=\"autoplay; camera; microphone; clipboard-read; clipboard-write;\" frameborder=\"0\" allowfullscreen></iframe></div>"
      ],
      "text/plain": [
       "<IPython.core.display.HTML object>"
      ]
     },
     "metadata": {},
     "output_type": "display_data"
    }
   ],
   "source": [
    "block.launch(debug = True)"
   ]
  },
  {
   "cell_type": "code",
   "execution_count": null,
   "id": "ca17debf",
   "metadata": {},
   "outputs": [],
   "source": []
  }
 ],
 "metadata": {
  "kernelspec": {
   "display_name": "Python 3 (ipykernel)",
   "language": "python",
   "name": "python3"
  },
  "language_info": {
   "codemirror_mode": {
    "name": "ipython",
    "version": 3
   },
   "file_extension": ".py",
   "mimetype": "text/x-python",
   "name": "python",
   "nbconvert_exporter": "python",
   "pygments_lexer": "ipython3",
   "version": "3.9.13"
  }
 },
 "nbformat": 4,
 "nbformat_minor": 5
}
